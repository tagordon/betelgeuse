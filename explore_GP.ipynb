{
 "cells": [
  {
   "cell_type": "code",
   "execution_count": 1,
   "metadata": {},
   "outputs": [],
   "source": [
    "%matplotlib inline\n",
    "import numpy as np\n",
    "import pandas as pd\n",
    "import matplotlib.pyplot as plt\n",
    "import matplotlib.cm as cm\n",
    "from astropy.time import Time\n",
    "from astropy.timeseries import LombScargle\n",
    "import exoplanet as xo"
   ]
  },
  {
   "cell_type": "code",
   "execution_count": 2,
   "metadata": {},
   "outputs": [],
   "source": [
    "import matplotlib\n",
    "matplotlib.rcParams.update({'font.size':18})\n",
    "matplotlib.rcParams.update({'font.family':'serif'})"
   ]
  },
  {
   "cell_type": "code",
   "execution_count": 3,
   "metadata": {},
   "outputs": [
    {
     "name": "stderr",
     "output_type": "stream",
     "text": [
      "/usr/local/lib/python3.7/site-packages/IPython/core/interactiveshell.py:2785: DtypeWarning: Columns (1,15,22,23) have mixed types. Specify dtype option on import or set low_memory=False.\n",
      "  interactivity=interactivity, compiler=compiler, result=result)\n"
     ]
    }
   ],
   "source": [
    "file = 'aavsodata_5f20eb1154bf8.txt'\n",
    "df = pd.read_csv(file)\n",
    "# df"
   ]
  },
  {
   "cell_type": "code",
   "execution_count": 4,
   "metadata": {},
   "outputs": [
    {
     "data": {
      "text/plain": [
       "Index(['JD', 'Magnitude', 'Uncertainty', 'HQuncertainty', 'Band',\n",
       "       'Observer Code', 'Comment Code(s)', 'Comp Star 1', 'Comp Star 2',\n",
       "       'Charts', 'Comments', 'Transfomed', 'Airmass', 'Validation Flag',\n",
       "       'Cmag', 'Kmag', 'HJD', 'Star Name', 'Observer Affiliation',\n",
       "       'Measurement Method', 'Grouping Method', 'ADS Reference', 'Digitizer',\n",
       "       'Credit'],\n",
       "      dtype='object')"
      ]
     },
     "execution_count": 4,
     "metadata": {},
     "output_type": "execute_result"
    }
   ],
   "source": [
    "df.columns"
   ]
  },
  {
   "cell_type": "code",
   "execution_count": 5,
   "metadata": {},
   "outputs": [
    {
     "data": {
      "text/plain": [
       "(35447, 24)"
      ]
     },
     "execution_count": 5,
     "metadata": {},
     "output_type": "execute_result"
    }
   ],
   "source": [
    "df.shape"
   ]
  },
  {
   "cell_type": "code",
   "execution_count": 6,
   "metadata": {},
   "outputs": [
    {
     "data": {
      "text/plain": [
       "array(['Vis.', 'V', 'U', 'B', nan, 'H', 'CV', 'TG', 'J', 'TB', 'TR', 'I',\n",
       "       'R'], dtype=object)"
      ]
     },
     "execution_count": 6,
     "metadata": {},
     "output_type": "execute_result"
    }
   ],
   "source": [
    "df['Band'].unique()"
   ]
  },
  {
   "cell_type": "code",
   "execution_count": 7,
   "metadata": {},
   "outputs": [
    {
     "data": {
      "text/plain": [
       "array(['V', 'Z'], dtype=object)"
      ]
     },
     "execution_count": 7,
     "metadata": {},
     "output_type": "execute_result"
    }
   ],
   "source": [
    "df['Validation Flag'].unique()"
   ]
  },
  {
   "cell_type": "code",
   "execution_count": 8,
   "metadata": {},
   "outputs": [
    {
     "data": {
      "text/plain": [
       "0        False\n",
       "1        False\n",
       "2        False\n",
       "3        False\n",
       "4        False\n",
       "         ...  \n",
       "35442    False\n",
       "35443     True\n",
       "35444    False\n",
       "35445    False\n",
       "35446    False\n",
       "Name: Uncertainty, Length: 35447, dtype: bool"
      ]
     },
     "execution_count": 8,
     "metadata": {},
     "output_type": "execute_result"
    }
   ],
   "source": [
    "df['Uncertainty'] < 1"
   ]
  },
  {
   "cell_type": "code",
   "execution_count": 9,
   "metadata": {},
   "outputs": [
    {
     "data": {
      "text/plain": [
       "1579"
      ]
     },
     "execution_count": 9,
     "metadata": {},
     "output_type": "execute_result"
    }
   ],
   "source": [
    "vok = np.where((df['Uncertainty'] < 0.1) &          # select only \"good\" data\n",
    "               (df['Band'] == 'V') &                # in V band\n",
    "               (df['JD'] > (2459059.6638 - 40*365)) # within last ~40yrs\n",
    "              )[0]\n",
    "\n",
    "np.size(vok) # how many data points do we have?"
   ]
  },
  {
   "cell_type": "code",
   "execution_count": 10,
   "metadata": {},
   "outputs": [],
   "source": [
    "new_dates = Time(['2020-06-24', '2020-7-13', '2020-07-20'], format='isot', scale='utc')\n",
    "new_mags = [0.66, 0.76, 0.80]\n",
    "new_errs = [0.015, 0.015, 0.015]"
   ]
  },
  {
   "cell_type": "code",
   "execution_count": null,
   "metadata": {},
   "outputs": [],
   "source": []
  },
  {
   "cell_type": "code",
   "execution_count": 11,
   "metadata": {},
   "outputs": [],
   "source": [
    "time = Time(df['JD'].values[vok], format='jd')"
   ]
  },
  {
   "cell_type": "code",
   "execution_count": 12,
   "metadata": {},
   "outputs": [],
   "source": [
    "XX = time.to_value('decimalyear')\n",
    "YY = df['Magnitude'][vok].astype('float').values\n",
    "EE = df['Uncertainty'][vok].values\n",
    "\n",
    "XX = np.append(XX, new_dates.to_value('decimalyear'))\n",
    "YY = np.append(YY, new_mags)\n",
    "EE = np.append(EE, new_errs)\n",
    "\n",
    "ss = np.argsort(XX)\n",
    "XX = XX[ss]\n",
    "YY = YY[ss]\n",
    "EE = EE[ss]"
   ]
  },
  {
   "cell_type": "code",
   "execution_count": 13,
   "metadata": {},
   "outputs": [
    {
     "data": {
      "image/png": "[encoded data removed]",
      "text/plain": [
       "<Figure size 864x360 with 1 Axes>"
      ]
     },
     "metadata": {},
     "output_type": "display_data"
    }
   ],
   "source": [
    "plt.figure(figsize=(12,5))\n",
    "plt.errorbar(XX,YY, yerr=EE, linestyle='none', marker='.')\n",
    "plt.gca().invert_yaxis()"
   ]
  },
  {
   "cell_type": "code",
   "execution_count": null,
   "metadata": {},
   "outputs": [],
   "source": []
  },
  {
   "cell_type": "code",
   "execution_count": 14,
   "metadata": {},
   "outputs": [
    {
     "name": "stdout",
     "output_type": "stream",
     "text": [
      "1.076339261791538\n"
     ]
    },
    {
     "data": {
      "image/png": "[encoded data removed]",
      "text/plain": [
       "<Figure size 432x288 with 1 Axes>"
      ]
     },
     "metadata": {},
     "output_type": "display_data"
    }
   ],
   "source": [
    "frequency, power = LombScargle(XX, YY).autopower(minimum_frequency=1./10, maximum_frequency=1./0.1)\n",
    "plt.plot(1./frequency, power)\n",
    "plt.xscale('log')\n",
    "plt.plot([420/365., 420/365.], [0,0.3], c='C1', lw=3, alpha=0.5) # Dupree+(1987)\n",
    "plt.plot([5.78, 5.78], [0,0.3], c='C2', lw=3, alpha=0.5) # Goldberg(1984)\n",
    "\n",
    "plt.xlabel('Period (years)')\n",
    "\n",
    "# Uh oh, that 1-yr alias...\n",
    "print(1./frequency[np.argmax(power)])"
   ]
  },
  {
   "cell_type": "markdown",
   "metadata": {},
   "source": [
    "Now let try the ACF"
   ]
  },
  {
   "cell_type": "code",
   "execution_count": null,
   "metadata": {},
   "outputs": [],
   "source": []
  },
  {
   "cell_type": "code",
   "execution_count": 15,
   "metadata": {},
   "outputs": [
    {
     "data": {
      "image/png": "[encoded data removed]",
      "text/plain": [
       "<Figure size 432x288 with 1 Axes>"
      ]
     },
     "metadata": {},
     "output_type": "display_data"
    }
   ],
   "source": [
    "# There's a problem we run in to... there are datapoints with the same timestamps,\n",
    "# and the delta-time distribution is very wide...\n",
    "dok = np.where((np.diff(XX) > 0.00))[0]\n",
    "_ = plt.hist(np.log10(np.diff(XX)[dok]))"
   ]
  },
  {
   "cell_type": "code",
   "execution_count": 16,
   "metadata": {},
   "outputs": [],
   "source": [
    "# This is an issue b/c the ACF estimator resamples the data onto a uniform grid\n",
    "# based on the minimum delta-time... making 40yrs @ minutes cadence SUPER slow \n",
    "\n",
    "dok = np.where((np.diff(XX) > 1e-4))[0]\n",
    "\n",
    "acf = xo.autocorr_estimator(XX[dok], YY[dok], yerr=EE[dok], oversample=1,\n",
    "                            min_period=0.01, max_period=5, max_peaks=3)\n"
   ]
  },
  {
   "cell_type": "code",
   "execution_count": 17,
   "metadata": {},
   "outputs": [
    {
     "data": {
      "text/plain": [
       "(0.0, 15.0)"
      ]
     },
     "execution_count": 17,
     "metadata": {},
     "output_type": "execute_result"
    },
    {
     "data": {
      "image/png": "[encoded data removed]",
      "text/plain": [
       "<Figure size 432x288 with 1 Axes>"
      ]
     },
     "metadata": {},
     "output_type": "display_data"
    }
   ],
   "source": [
    "# Hmm, also doesn't get the right period quite... still loves that 1-yr alias!\n",
    "plt.plot(acf['autocorr'][0],acf['autocorr'][1])\n",
    "plt.plot([420/365., 420/365.], [-.2,1], c='C1', lw=3, alpha=0.5) # Dupree+(1987)\n",
    "plt.plot([5.78, 5.78], [-.2,1], c='C2', lw=3, alpha=0.5) # Goldberg(1984)\n",
    "\n",
    "plt.xlim(0,15)"
   ]
  },
  {
   "cell_type": "code",
   "execution_count": 18,
   "metadata": {},
   "outputs": [
    {
     "data": {
      "text/plain": [
       "[{'period': 1.0381849347083971, 'period_uncert': nan}]"
      ]
     },
     "execution_count": 18,
     "metadata": {},
     "output_type": "execute_result"
    }
   ],
   "source": [
    "acf['peaks']"
   ]
  },
  {
   "cell_type": "code",
   "execution_count": 19,
   "metadata": {},
   "outputs": [
    {
     "data": {
      "text/plain": [
       "array([0.024, 0.033, 0.011, ..., 0.015, 0.015, 0.03 ])"
      ]
     },
     "execution_count": 19,
     "metadata": {},
     "output_type": "execute_result"
    }
   ],
   "source": [
    "EE"
   ]
  },
  {
   "cell_type": "code",
   "execution_count": 34,
   "metadata": {},
   "outputs": [
    {
     "name": "stderr",
     "output_type": "stream",
     "text": [
      "optimizing logp for variables: [logw, logS0, mix, logdQ, logQ0, period, logamp, yerr, mean]\n"
     ]
    },
    {
     "data": {
      "application/vnd.jupyter.widget-view+json": {
       "model_id": "3a6b878ffe1f4dc68359507f62f6f1a9",
       "version_major": 2,
       "version_minor": 0
      },
      "text/plain": [
       "HBox(children=(IntProgress(value=1, bar_style='info', max=1), HTML(value='')))"
      ]
     },
     "metadata": {},
     "output_type": "display_data"
    },
    {
     "name": "stdout",
     "output_type": "stream",
     "text": [
      "\n"
     ]
    },
    {
     "name": "stderr",
     "output_type": "stream",
     "text": [
      "message: Desired error not necessarily achieved due to precision loss.\n",
      "logp: -3046.0471433932908 -> -1247.0860050478054\n",
      "Multiprocess sampling (2 chains in 2 jobs)\n",
      "NUTS: [logw, logS0, mix, logdQ, logQ0, period, logamp, yerr, mean]\n",
      "Sampling 2 chains, 0 divergences: 100%|██████████| 2000/2000 [03:48<00:00, 13.73draws/s]\n"
     ]
    }
   ],
   "source": [
    "import pymc3 as pm\n",
    "import theano.tensor as tt\n",
    "\n",
    "with pm.Model() as model:\n",
    "    \n",
    "    mean = pm.Normal(\"mean\", mu=np.mean(YY), sd=1)\n",
    "    yerr = pm.Normal(\"yerr\", mu=np.mean(EE), sd=1)    \n",
    "    logamp = pm.Normal(\"logamp\", mu=np.log(np.var(YY)), sd=1)\n",
    "    period = pm.Uniform(\"period\", lower=0.0, upper=2.0)\n",
    "    logQ0 = pm.Normal(\"logQ0\", mu=0.5, sd=5.0)\n",
    "    logdQ = pm.Normal(\"logdQ\", mu=2.0, sd=5.0)\n",
    "    mix = pm.Uniform(\"mix\", lower=0.0, upper=1.0)\n",
    "    \n",
    "    logS0 = pm.Normal(\"logS0\", mu=np.log(np.var(YY)), sd=5)\n",
    "    dt = XX[-1] - XX[0]\n",
    "    lower = -np.log(dt / 2 / np.pi)\n",
    "    upper = -np.log(dt / 40 / np.pi)\n",
    "    logw = pm.Uniform(\"logw\", lower=lower, upper=upper)\n",
    "    \n",
    "    # Set up the Gaussian Process model\n",
    "    kernel = xo.gp.terms.RotationTerm(\n",
    "        log_amp=logamp,\n",
    "        period=period,\n",
    "        log_Q0=logQ0,\n",
    "        log_deltaQ=logdQ,\n",
    "        mix=mix\n",
    "    )\n",
    "    kernel += xo.gp.terms.SHOTerm(\n",
    "        log_S0 = logS0,\n",
    "        log_w0 = logw,\n",
    "        log_Q = -np.log(np.sqrt(2))\n",
    "    )                  \n",
    "                      \n",
    "    gp = xo.gp.GP(kernel, XX, yerr**2 * np.ones_like(XX), mean=mean, J=6)\n",
    "    gp.marginal(\"gp\", observed = YY)\n",
    "\n",
    "    start = model.test_point\n",
    "    map_soln = xo.optimize(start=start, verbose=True)\n",
    "    trace = pm.sample(\n",
    "        tune=500,\n",
    "        draws=500,\n",
    "        start=start,\n",
    "        cores=2,\n",
    "        chains=2,\n",
    "        step=xo.get_dense_nuts_step(target_accept=0.9)\n",
    "    )"
   ]
  },
  {
   "cell_type": "code",
   "execution_count": 21,
   "metadata": {},
   "outputs": [
    {
     "data": {
      "text/plain": [
       "{'mean': array(0.70399654),\n",
       " 'yerr': array(0.68604515),\n",
       " 'logamp': array(-3.06157786),\n",
       " 'period_interval__': array(5.02562813),\n",
       " 'logQ0': array(-3.22163137),\n",
       " 'logdQ': array(-49.81001647),\n",
       " 'mix_interval__': array(-11.90301413),\n",
       " 'logS0': array(-108.34710432),\n",
       " 'logw_interval__': array(9.93820707),\n",
       " 'period': array(1.98695078),\n",
       " 'mix': array(6.7699226e-06),\n",
       " 'logw': array(1.21203292)}"
      ]
     },
     "execution_count": 21,
     "metadata": {},
     "output_type": "execute_result"
    }
   ],
   "source": [
    "map_soln"
   ]
  },
  {
   "cell_type": "code",
   "execution_count": 35,
   "metadata": {},
   "outputs": [
    {
     "data": {
      "text/plain": [
       "{'mean': 0.5411052576488274,\n",
       " 'yerr': 0.03686769026462313,\n",
       " 'logamp': -4.405193394326446,\n",
       " 'period_interval__': 0.14589720354727317,\n",
       " 'logQ0': 0.9126255946377857,\n",
       " 'logdQ': 1.5851953548963391,\n",
       " 'mix_interval__': 1.2333345552381174,\n",
       " 'logS0': -4.574732279538648,\n",
       " 'logw_interval__': 1.9308559756126125,\n",
       " 'period': 1.0728194779944826,\n",
       " 'mix': 0.7744016664856681,\n",
       " 'logw': 0.8327505225182805}"
      ]
     },
     "execution_count": 35,
     "metadata": {},
     "output_type": "execute_result"
    }
   ],
   "source": [
    "trace[1]"
   ]
  },
  {
   "cell_type": "code",
   "execution_count": null,
   "metadata": {},
   "outputs": [],
   "source": [
    "pm.traceplot(trace)"
   ]
  },
  {
   "cell_type": "code",
   "execution_count": null,
   "metadata": {},
   "outputs": [],
   "source": [
    "import corner\n",
    "samples = pm.trace_to_dataframe(trace)\n",
    "_ = corner.corner(samples)"
   ]
  },
  {
   "cell_type": "code",
   "execution_count": 53,
   "metadata": {},
   "outputs": [],
   "source": [
    "t = np.linspace(XX[0], XX[-1]+5, 1000)\n",
    "with model:\n",
    "    mu, var = xo.eval_in_model(gp.predict(t, return_var=True), trace[1])"
   ]
  },
  {
   "cell_type": "code",
   "execution_count": 65,
   "metadata": {},
   "outputs": [
    {
     "data": {
      "text/plain": [
       "<matplotlib.collections.PolyCollection at 0x12aeb0dd0>"
      ]
     },
     "execution_count": 65,
     "metadata": {},
     "output_type": "execute_result"
    },
    {
     "data": {
      "image/png": "[encoded data removed]",
      "text/plain": [
       "<Figure size 432x288 with 1 Axes>"
      ]
     },
     "metadata": {},
     "output_type": "display_data"
    }
   ],
   "source": [
    "plt.plot(XX, YY, '.')\n",
    "plt.plot(t, mu+trace[1]['mean'])\n",
    "plt.fill_between(t, mu-np.sqrt(var)+trace[1]['mean'], mu+np.sqrt(var)+trace[1]['mean'], alpha=0.5, color='C1')"
   ]
  },
  {
   "cell_type": "code",
   "execution_count": null,
   "metadata": {},
   "outputs": [],
   "source": [
    "with model:\n",
    "    mu, var = xo.eval_in_model(gp.predict(XX, return_var=True), map_soln)"
   ]
  },
  {
   "cell_type": "code",
   "execution_count": null,
   "metadata": {},
   "outputs": [],
   "source": [
    "import celerite\n",
    "from celerite import terms\n",
    "from scipy.optimize import minimize\n",
    "\n",
    "def neg_log_like(params, y, gp):\n",
    "    gp.set_parameter_vector(params)\n",
    "    return -gp.log_likelihood(y)\n",
    "\n",
    "def grad_neg_log_like(params, y, gp,):\n",
    "    gp.set_parameter_vector(params)\n",
    "    return -gp.grad_log_likelihood(y)[1]"
   ]
  },
  {
   "cell_type": "code",
   "execution_count": null,
   "metadata": {},
   "outputs": [],
   "source": [
    "bounds = dict(log_S0=(-0, 15), log_Q=(-15, 15), log_omega0=(-15, 15))\n",
    "\n",
    "EPAD = 0.02 # add extra Yerror term to \"account\" for scatter\n",
    "\n",
    "Q = 1.0 / np.sqrt(2.0)\n",
    "w0 = .01\n",
    "S0 = np.var(YY) / (w0 * Q)\n",
    "#kernel = xo.gp.terms.SHOTerm(log_S0=np.log(S0), log_Q=np.log(Q), \n",
    "                       log_omega0=np.log(w0), bounds=bounds)\n",
    "#kernel.freeze_parameter(\"log_Q\") \n",
    "#kernel += terms.SHOTerm(log_S0=np.log(S0), log_Q=np.log(Q), \n",
    "#                       log_omega0=np.log(w0), bounds=bounds)\n",
    "# kernel += terms.RealTerm(log_a=np.log(np.var(YY)), log_c=-np.log(10.0))\n",
    "\n",
    "gp = celerite.GP(kernel, mean=np.mean(YY), fit_mean=True)\n",
    "gp.compute(XX, yerr=EE + EPAD) \n",
    "\n",
    "bounds = gp.get_parameter_bounds()\n",
    "initial_params = gp.get_parameter_vector()\n",
    "\n",
    "soln = minimize(neg_log_like, initial_params, jac=grad_neg_log_like,\n",
    "                method='L-BFGS-B', bounds=bounds, args=(YY, gp))\n",
    "gp.set_parameter_vector(soln.x)\n",
    "\n",
    "xnew = np.linspace(XX.min(), 2022, 1500)\n",
    "mu, var = gp.predict(YY, xnew, return_var=True)"
   ]
  },
  {
   "cell_type": "code",
   "execution_count": null,
   "metadata": {},
   "outputs": [],
   "source": [
    "gp.get_parameter_dict()"
   ]
  },
  {
   "cell_type": "code",
   "execution_count": null,
   "metadata": {},
   "outputs": [],
   "source": [
    "# This gives us... some other period entirely right now. Huh... 2.7yrs??\n",
    "print(2*np.pi/np.exp(gp.get_parameter_dict()['kernel:terms[0]:log_omega0']))"
   ]
  },
  {
   "cell_type": "code",
   "execution_count": null,
   "metadata": {},
   "outputs": [],
   "source": [
    "# But, the model looks nice!\n",
    "\n",
    "plt.figure(figsize=(12,5))\n",
    "plt.errorbar(XX,YY, \n",
    "             yerr=EE, linestyle='none', marker='.')\n",
    "\n",
    "plt.plot(xnew, mu)\n",
    "plt.fill_between(xnew, mu+np.sqrt(var), mu-np.sqrt(var), color='C1', alpha=0.3,\n",
    "                 edgecolor=\"none\")\n",
    "plt.gca().invert_yaxis()\n",
    "plt.xlim(2005,2022)\n",
    "plt.ylabel('V mag')\n",
    "\n"
   ]
  },
  {
   "cell_type": "code",
   "execution_count": null,
   "metadata": {},
   "outputs": [],
   "source": [
    "plt.figure(figsize=(12,5))\n",
    "plt.errorbar(XX,YY, \n",
    "             yerr=EE, linestyle='none', marker='.')\n",
    "\n",
    "plt.plot(xnew, mu)\n",
    "plt.fill_between(xnew, mu+np.sqrt(var), mu-np.sqrt(var), color='C1', alpha=0.3,\n",
    "                 edgecolor=\"none\")\n",
    "plt.gca().invert_yaxis()\n",
    "# plt.xlim(2005,2022)\n",
    "plt.ylabel('V mag')"
   ]
  },
  {
   "cell_type": "markdown",
   "metadata": {},
   "source": [
    "So what if we try something else to recover the 430d period...\n",
    "\n",
    "let's run the Lomb-Scargle and ACF on the GP predictions, which are regularly sampled (no 1-yr observing alias)"
   ]
  },
  {
   "cell_type": "code",
   "execution_count": null,
   "metadata": {},
   "outputs": [],
   "source": [
    "# If we start getting selective about the time range, we can pick periods we \"like\" \n",
    "# (i.e. match previous results )\n",
    "# NOTE: This is unsatisfying...\n",
    "\n",
    "aok = np.where((xnew > 1994))[0]\n",
    "\n",
    "frequency,power = LombScargle(xnew[aok], mu[aok]).autopower(minimum_frequency=1./10, maximum_frequency=1./0.1)\n",
    "plt.plot(1./frequency, power)\n",
    "plt.xscale('log')\n",
    "plt.plot([420/365., 420/365.], [0,.3], c='C1', lw=3, alpha=0.5) # Dupree+(1987)\n",
    "plt.plot([5.78, 5.78], [0,.3], c='C2', lw=3, alpha=0.5) # Goldberg(1984)\n",
    "\n",
    "plt.xlabel('Period (years)')\n",
    "\n",
    "print(1./frequency[np.argmax(power)])"
   ]
  },
  {
   "cell_type": "code",
   "execution_count": null,
   "metadata": {},
   "outputs": [],
   "source": [
    "aok = np.where((xnew > 1994) & (xnew < 2004))[0]\n",
    "\n",
    "frequency,power = LombScargle(xnew[aok], mu[aok]).autopower(minimum_frequency=1./10, maximum_frequency=1./0.1)\n",
    "plt.plot(1./frequency, power)\n",
    "plt.xscale('log')\n",
    "plt.plot([420/365., 420/365.], [0,.3], c='C1', lw=3, alpha=0.5) # Dupree+(1987)\n",
    "plt.plot([5.78, 5.78], [0,.3], c='C2', lw=3, alpha=0.5) # Goldberg(1984)\n",
    "\n",
    "plt.xlabel('Period (years)')\n",
    "\n",
    "print(1./frequency[np.argmax(power)])"
   ]
  },
  {
   "cell_type": "code",
   "execution_count": null,
   "metadata": {},
   "outputs": [],
   "source": []
  },
  {
   "cell_type": "code",
   "execution_count": null,
   "metadata": {},
   "outputs": [],
   "source": []
  }
 ],
 "metadata": {
  "kernelspec": {
   "display_name": "Python 3",
   "language": "python",
   "name": "python3"
  },
  "language_info": {
   "codemirror_mode": {
    "name": "ipython",
    "version": 3
   },
   "file_extension": ".py",
   "mimetype": "text/x-python",
   "name": "python",
   "nbconvert_exporter": "python",
   "pygments_lexer": "ipython3",
   "version": "3.7.4"
  }
 },
 "nbformat": 4,
 "nbformat_minor": 4
}
